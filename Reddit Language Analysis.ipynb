{
 "cells": [
  {
   "cell_type": "markdown",
   "metadata": {},
   "source": [
    "This script is intended to scrape any number of posts and the various components of those posts from Reddit.com. I use the PRAW io.wrapper to interact with the objects of the Reddit API.\n",
    "\n",
    "The goal of this particular script is to subreddit for the top 1000 posts of all-time, store the titles, number of comments, score of the post, and subreddit. "
   ]
  },
  {
   "cell_type": "markdown",
   "metadata": {},
   "source": [
    "Setup credentials OAuth2 to connect to reddit api"
   ]
  },
  {
   "cell_type": "code",
   "execution_count": 1,
   "metadata": {},
   "outputs": [],
   "source": [
    "from os.path import isfile\n",
    "import praw\n",
    "import pandas as pd\n",
    "from time import sleep\n",
    "import os\n",
    "import io\n",
    "import datetime\n",
    "import linecache\n",
    "\n",
    "\n",
    "from bs4 import BeautifulSoup \n",
    "from bs4.element import Comment\n",
    "\n",
    "import datetime"
   ]
  },
  {
   "cell_type": "code",
   "execution_count": null,
   "metadata": {},
   "outputs": [],
   "source": [
    "reddit = praw.Reddit(client_id='6vtLxpH0AGMEJg',\n",
    "                     client_secret='RvdVqYTAPuZqapmtWq7nZNIdj30',\n",
    "                     password='Wardo1986',\n",
    "                     user_agent='ScrapeLifeTT by /u/Relevant_Telephone',\n",
    "                     username='Relevant_Telephone')"
   ]
  },
  {
   "cell_type": "code",
   "execution_count": null,
   "metadata": {},
   "outputs": [],
   "source": [
    "print(reddit.user.me())"
   ]
  },
  {
   "cell_type": "code",
   "execution_count": null,
   "metadata": {},
   "outputs": [],
   "source": [
    "# get any number of hot posts from the subreddit of your choosing but only the text of the title\n",
    "# use this block to test out some pulls\n",
    "\n",
    "hot_posts = reddit.subreddit('random').hot(limit=5)\n",
    "for post in hot_posts :\n",
    "    print(post.title)"
   ]
  },
  {
   "cell_type": "markdown",
   "metadata": {},
   "source": [
    "The following block allows you to change how many posts you want to pull, whether you want it to be ranked by \"hotness\" or some other filter, and to input a specific subreddit, or run at random. This is put into a dataframe called \"posts\" - this list can now be iterated into a local file or to an instance of GBQ.\n",
    "Here are some of my favorite subreddits:\n",
    "AskReddit,\n",
    "todayilearned,\n",
    "worldnews,\n",
    "Science,\n",
    "news,\n",
    "politics,\n",
    "explainlikeimfive,\n",
    "Showerthoughts,\n",
    "funny"
   ]
  },
  {
   "cell_type": "code",
   "execution_count": null,
   "metadata": {},
   "outputs": [],
   "source": [
    "posts = []\n",
    "my_subreddit = reddit.subreddit('funny')\n",
    "for post in my_subreddit.top(limit=1000):\n",
    "    str(datetime.datetime.fromtimestamp(post.created_utc))\n",
    "    post.title.encode(\"utf-8\",errors=\"ignore\")\n",
    "    posts.append([post.title, post.score, post.id, post.subreddit, post.url, post.num_comments,\n",
    "                  str(datetime.datetime.fromtimestamp(post.created))])\n",
    "posts = pd.DataFrame(posts,columns=['title', 'score', 'id', 'subreddit', 'url', 'num_comments', 'created'])\n",
    "#print(posts)"
   ]
  },
  {
   "cell_type": "markdown",
   "metadata": {},
   "source": [
    "The next block appends the information to a .csv file"
   ]
  },
  {
   "cell_type": "code",
   "execution_count": null,
   "metadata": {},
   "outputs": [],
   "source": [
    "posts.to_csv(r'C:\\Users\\Alexi\\Documents\\UofM\\Fall2019\\ADA\\applied-data-analytics\\web-scraping\\Text_Based_Project_Final\\posts_reddit_topsubreddits.csv',\n",
    "                mode = 'a', index=None, header = True, date_format='%d/%m/%Y', sep = \",\")"
   ]
  }
 ],
 "metadata": {
  "kernelspec": {
   "display_name": "Python 3",
   "language": "python",
   "name": "python3"
  },
  "language_info": {
   "codemirror_mode": {
    "name": "ipython",
    "version": 3
   },
   "file_extension": ".py",
   "mimetype": "text/x-python",
   "name": "python",
   "nbconvert_exporter": "python",
   "pygments_lexer": "ipython3",
   "version": "3.7.4"
  }
 },
 "nbformat": 4,
 "nbformat_minor": 2
}
